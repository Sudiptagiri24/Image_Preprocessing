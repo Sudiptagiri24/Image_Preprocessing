{
 "cells": [
  {
   "cell_type": "code",
   "execution_count": 18,
   "id": "e0ed28a5-e64b-482f-b6e0-92f5e3c4a9ee",
   "metadata": {},
   "outputs": [],
   "source": [
    "import numpy as np\n",
    "import cv2\n",
    "import os\n",
    "import random\n",
    "import matplotlib.pyplot as plt"
   ]
  },
  {
   "cell_type": "code",
   "execution_count": 20,
   "id": "69a7265f-bf2e-4b44-88c2-da617410a47b",
   "metadata": {},
   "outputs": [],
   "source": [
    "def find_Class(directory_path):\n",
    "    if not os.path.exists(directory_path):\n",
    "        raise ValueError(f\"The directory '{directory_path}' does not exist.\")\n",
    "    if not os.path.isdir(directory_path):\n",
    "        raise ValueError(f\"The path '{directory_path}' is not a directory.\")\n",
    "    \n",
    "    all_entries = os.listdir(directory_path)\n",
    "    \n",
    "    folders = [entry for entry in all_entries if os.path.isdir(os.path.join(directory_path, entry))]\n",
    "    \n",
    "    return folders"
   ]
  },
  {
   "cell_type": "code",
   "execution_count": 22,
   "id": "ae8c3f40-dad3-4992-af9a-f7e9ee2f973c",
   "metadata": {},
   "outputs": [
    {
     "name": "stdout",
     "output_type": "stream",
     "text": [
      "Current Working Directory: /Users/sudiptagiri/Desktop/Emotion_Detection2/archive (2)\n"
     ]
    }
   ],
   "source": [
    "current_dir = os.getcwd()\n",
    "print(f\"Current Working Directory: {current_dir}\")"
   ]
  },
  {
   "cell_type": "code",
   "execution_count": 24,
   "id": "3f8de1cd-e8ae-42b0-acbb-09077b2d43c1",
   "metadata": {},
   "outputs": [
    {
     "name": "stdout",
     "output_type": "stream",
     "text": [
      "Directories in '/Users/sudiptagiri/Desktop/Emotion_Detection2/archive (2)/DATASET/train':\n"
     ]
    },
    {
     "data": {
      "text/plain": [
       "['7', '6', '1', '4', '3', '2', '5']"
      ]
     },
     "execution_count": 24,
     "metadata": {},
     "output_type": "execute_result"
    }
   ],
   "source": [
    "DIRECTORY= r\"/Users/sudiptagiri/Desktop/Emotion_Detection2/archive (2)/DATASET/train\"\n",
    "CATAGORIES= []\n",
    "try:\n",
    "    folders = find_Class(DIRECTORY)\n",
    "    print(f\"Directories in '{DIRECTORY}':\")\n",
    "    for folder in folders:\n",
    "        CATAGORIES.append(folder)\n",
    "except ValueError as e:\n",
    "    print(e)\n",
    "\n",
    "CATAGORIES"
   ]
  },
  {
   "cell_type": "code",
   "execution_count": 26,
   "id": "1df8da90-0013-4d0e-82b5-a71a2f8ed5a3",
   "metadata": {},
   "outputs": [],
   "source": [
    "data=[]\n",
    "\n",
    "for categories in CATAGORIES:\n",
    "    folder=os.path.join(DIRECTORY,categories)\n",
    "    label=CATAGORIES.index(categories)\n",
    "    \n",
    "    \n",
    "    for img in os.listdir(folder):\n",
    "        img=os.path.join(folder,img)\n",
    "        img_arr=cv2.imread(img)\n",
    "        if img_arr is not None:  # Check if the image is successfully loaded\n",
    "            img_arr_gray = cv2.cvtColor(img_arr, cv2.COLOR_BGR2GRAY)\n",
    "            img_arr_eq = cv2.equalizeHist(img_arr_gray)\n",
    "            img_arr_resized = cv2.resize(img_arr_eq, (100, 100))\n",
    "           \n",
    "            data.append([img_arr_resized, label])\n",
    "        else:\n",
    "            print(f\"Failed to load image {img}\")"
   ]
  },
  {
   "cell_type": "code",
   "execution_count": 28,
   "id": "26b74d42-ef4a-4f44-83b5-993a92502ec5",
   "metadata": {},
   "outputs": [
    {
     "data": {
      "text/plain": [
       "12271"
      ]
     },
     "execution_count": 28,
     "metadata": {},
     "output_type": "execute_result"
    }
   ],
   "source": [
    "len(data)"
   ]
  },
  {
   "cell_type": "code",
   "execution_count": 30,
   "id": "c3f58d88-00c4-4df2-b429-955c621a2821",
   "metadata": {},
   "outputs": [],
   "source": [
    "DIRECTORY= r\"/Users/sudiptagiri/Desktop/Emotion_Detection2/archive (2)/DATASET/test\"\n",
    "for categories in CATAGORIES:\n",
    "    folder=os.path.join(DIRECTORY,categories)\n",
    "    label=CATAGORIES.index(categories)\n",
    "    \n",
    "    \n",
    "    for img in os.listdir(folder):\n",
    "        img=os.path.join(folder,img)\n",
    "        img_arr=cv2.imread(img)\n",
    "        if img_arr is not None:  # Check if the image is successfully loaded\n",
    "            img_arr_gray = cv2.cvtColor(img_arr, cv2.COLOR_BGR2GRAY)\n",
    "            img_arr_eq = cv2.equalizeHist(img_arr_gray)\n",
    "            img_arr_resized = cv2.resize(img_arr_eq, (100, 100))\n",
    "           \n",
    "            data.append([img_arr_resized, label])\n",
    "        else:\n",
    "            print(f\"Failed to load image {img}\")"
   ]
  },
  {
   "cell_type": "code",
   "execution_count": 32,
   "id": "ae65adeb-8226-4b5d-bf90-b2be4d24ce9e",
   "metadata": {},
   "outputs": [
    {
     "data": {
      "text/plain": [
       "15339"
      ]
     },
     "execution_count": 32,
     "metadata": {},
     "output_type": "execute_result"
    }
   ],
   "source": [
    "len(data)"
   ]
  },
  {
   "cell_type": "code",
   "execution_count": 34,
   "id": "eb4f1c9f-df8b-453d-aad6-f6ac7027eeb6",
   "metadata": {},
   "outputs": [],
   "source": [
    "random.shuffle(data)"
   ]
  },
  {
   "cell_type": "code",
   "execution_count": 36,
   "id": "b5cadff8-662c-4b79-b878-afd7079a9734",
   "metadata": {},
   "outputs": [],
   "source": [
    "x=[]\n",
    "y=[]\n",
    "\n",
    "\n",
    "for features,label in data:\n",
    "    x.append(features)\n",
    "    y.append(label)"
   ]
  },
  {
   "cell_type": "code",
   "execution_count": 38,
   "id": "848ca9d1-ebf9-4f42-99d8-8d1a560c2c18",
   "metadata": {},
   "outputs": [],
   "source": [
    "X= np.array(x)\n",
    "Y=np.array(y)"
   ]
  },
  {
   "cell_type": "code",
   "execution_count": 40,
   "id": "5212d6b2-226f-4b33-8847-9c67245c310c",
   "metadata": {},
   "outputs": [],
   "source": [
    "X=X/255"
   ]
  },
  {
   "cell_type": "code",
   "execution_count": 42,
   "id": "4e1ef38f-4663-4ff5-9291-4b07f8709577",
   "metadata": {},
   "outputs": [
    {
     "data": {
      "text/plain": [
       "(15339, 100, 100)"
      ]
     },
     "execution_count": 42,
     "metadata": {},
     "output_type": "execute_result"
    }
   ],
   "source": [
    "X.shape"
   ]
  },
  {
   "cell_type": "code",
   "execution_count": 44,
   "id": "adae267d-dde8-4ccc-9350-ce04329633a6",
   "metadata": {},
   "outputs": [
    {
     "data": {
      "text/plain": [
       "(15339,)"
      ]
     },
     "execution_count": 44,
     "metadata": {},
     "output_type": "execute_result"
    }
   ],
   "source": [
    "Y.shape"
   ]
  }
 ],
 "metadata": {
  "kernelspec": {
   "display_name": "Python 3 (ipykernel)",
   "language": "python",
   "name": "python3"
  },
  "language_info": {
   "codemirror_mode": {
    "name": "ipython",
    "version": 3
   },
   "file_extension": ".py",
   "mimetype": "text/x-python",
   "name": "python",
   "nbconvert_exporter": "python",
   "pygments_lexer": "ipython3",
   "version": "3.11.7"
  }
 },
 "nbformat": 4,
 "nbformat_minor": 5
}
